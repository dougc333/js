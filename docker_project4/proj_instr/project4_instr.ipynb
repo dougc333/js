{
 "cells": [
  {
   "cell_type": "markdown",
   "metadata": {},
   "source": [
    "<img src=\"proj4a.png\">\n",
    "<img src=\"proj4b.png\">\n",
    "<img src=\"proj4c.png\">\n",
    "<img src=\"proj4d.png\">\n",
    "<img src=\"proj4e.png\">\n",
    "<img src=\"proj4f.png\">"
   ]
  },
  {
   "cell_type": "code",
   "execution_count": null,
   "metadata": {},
   "outputs": [],
   "source": []
  }
 ],
 "metadata": {
  "kernelspec": {
   "display_name": "Python 3",
   "language": "python",
   "name": "python3"
  },
  "language_info": {
   "codemirror_mode": {
    "name": "ipython",
    "version": 3
   },
   "file_extension": ".py",
   "mimetype": "text/x-python",
   "name": "python",
   "nbconvert_exporter": "python",
   "pygments_lexer": "ipython3",
   "version": "3.6.10"
  }
 },
 "nbformat": 4,
 "nbformat_minor": 2
}
